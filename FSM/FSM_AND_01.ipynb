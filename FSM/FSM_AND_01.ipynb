{
 "cells": [
  {
   "cell_type": "code",
   "execution_count": 31,
   "metadata": {},
   "outputs": [
    {
     "data": {
      "text/plain": [
       "Text(0, 0.5, 'Índice do neurônio')"
      ]
     },
     "execution_count": 31,
     "metadata": {},
     "output_type": "execute_result"
    },
    {
     "data": {
      "image/png": "[encoded data removed]",
      "text/plain": [
       "<Figure size 432x288 with 1 Axes>"
      ]
     },
     "metadata": {
      "needs_background": "light"
     },
     "output_type": "display_data"
    }
   ],
   "source": [
    "from brian2 import * \n",
    "%matplotlib inline\n",
    "\n",
    "N = 14 # Número de neurônios (0 a N-1)\n",
    "vrest = -70.0*mV # Potencial de repouso\n",
    "tau = 10*ms \n",
    "R = 100*Mohm\n",
    "w_exc = 11*mV # Peso sináptico excitatório\n",
    "w_exc_AND = 4*mV # Peso sináptico excitatório da porta AND\n",
    "                 # peso de 8mv para 1 entrada e clock. 4mV para 2 entradas e clock\n",
    "w_inh = -10*mV # Peso sináptico inibitório\n",
    "delay_syn = 20*ms\n",
    "\n",
    "# Modelo LIF - Leaky Integrate and Fire\n",
    "eqs = '''\n",
    "    dv/dt = ((vrest - v) + R*I)/tau : volt (unless refractory)\n",
    "    I : amp\n",
    "    '''\n",
    "\n",
    "# Criação dos neurônios\n",
    "neurons = NeuronGroup(N, eqs, threshold='v>-60.0*mV', reset='v=vrest', refractory=5*ms, method='linear')\n",
    "\n",
    "#Criação da sinapse excitatória dos loops (clock e estados)\n",
    "syn_ex = Synapses(neurons, neurons, on_pre='v_post += w_exc', delay=delay_syn)\n",
    "syn_ex.connect(i=0, j=1) # stimulus\n",
    "syn_ex.connect(i=0, j=3) # stimulus\n",
    "\n",
    "syn_ex.connect(i=1, j=2) # Clock\n",
    "syn_ex.connect(i=2, j=1)\n",
    "\n",
    "syn_ex.connect(i=3, j=4) # Estado Sa\n",
    "syn_ex.connect(i=4, j=3)\n",
    "\n",
    "syn_ex.connect(i=7, j=8) # Estado Sb\n",
    "syn_ex.connect(i=8, j=7)\n",
    "\n",
    "syn_ex.connect(i=11, j=12) # Estado Sc\n",
    "syn_ex.connect(i=12, j=11)\n",
    "\n",
    "syn_ex.connect(i=6, j=7) # Lógica AND\n",
    "syn_ex.connect(i=10, j=11) # Lógica AND\n",
    "syn_ex.connect(i=13, j=7) # Lógica AND\n",
    "\n",
    "#Criação da sinapse excitatória da porta AND\n",
    "syn_ex_AND = Synapses(neurons, neurons, on_pre='v_post += w_exc_AND', delay=delay_syn)\n",
    "syn_ex_AND.connect(i=1, j=6) # AND no neurônio 6\n",
    "syn_ex_AND.connect(i=3, j=6)\n",
    "syn_ex_AND.connect(i=5, j=6)\n",
    "\n",
    "syn_ex_AND.connect(i=1, j=10) # AND no neurônio 10\n",
    "syn_ex_AND.connect(i=7, j=10)\n",
    "syn_ex_AND.connect(i=9, j=10)\n",
    "\n",
    "syn_ex_AND.connect(i=1, j=13) # AND no neurônio 13\n",
    "syn_ex_AND.connect(i=5, j=13)\n",
    "syn_ex_AND.connect(i=11, j=13)\n",
    "\n",
    "#Criação da sinapse inibitória\n",
    "syn_in = Synapses(neurons, neurons, on_pre='v_post += w_inh', delay=delay_syn)\n",
    "syn_in.connect(i=6, j=3)\n",
    "syn_in.connect(i=6, j=4)\n",
    "syn_in.connect(i=10, j=7)\n",
    "syn_in.connect(i=10, j=8)\n",
    "syn_in.connect(i=13, j=11)\n",
    "syn_in.connect(i=13, j=12)\n",
    "\n",
    "#Funções para extrair dados da simulação \n",
    "state_mon = StateMonitor(neurons, 'v', record = True)\n",
    "spike_mon = SpikeMonitor(neurons)\n",
    "rate_mon = PopulationRateMonitor(neurons) # capturar a frequência instantânea da rede\n",
    "\n",
    "#Valores iniciais de tensão e corrente na entrada dos neurônios\n",
    "neurons.v = -80*mV\n",
    "neurons.I = [110, 0, 0, 0, 0, 0, 0, 0, 0, 0, 0, 0, 0, 0]*pA \n",
    "run (50*ms)  \n",
    "\n",
    "neurons.I[0] = 0*pA\n",
    "neurons.I[9] = 110*pA\n",
    "run(200*ms)\n",
    "\n",
    "neurons.I[9] = 0*pA\n",
    "neurons.I[5] = 110*pA\n",
    "run(200*ms)\n",
    "\n",
    "neurons.I[5] = 0*pA\n",
    "run(200*ms)\n",
    "\n",
    "neurons.I[9] = 110*pA\n",
    "run(200*ms)\n",
    "\n",
    "neurons.I[9] = 0*pA\n",
    "run(200*ms)\n",
    "\n",
    "neurons.I[5] = 110*pA\n",
    "run(200*ms)\n",
    "\n",
    "neurons.I[5] = 0*pA\n",
    "run(200*ms)\n",
    "\n",
    "neurons.I[5] = 110*pA\n",
    "run(200*ms)\n",
    "\n",
    "neurons.I[5] = 0*pA\n",
    "run(200*ms)\n",
    "\n",
    "neurons.I[9] = 110*pA\n",
    "run(200*ms)\n",
    "\n",
    "neurons.I[9] = 0*pA\n",
    "run(200*ms)\n",
    "\n",
    "plot(spike_mon.t/ms, spike_mon.i, 'x', markersize = 5)\n",
    "xlabel('Tempo (ms)')\n",
    "ylabel('Índice do neurônio')\n"
   ]
  },
  {
   "cell_type": "code",
   "execution_count": null,
   "metadata": {},
   "outputs": [],
   "source": []
  }
 ],
 "metadata": {
  "kernelspec": {
   "display_name": "Python 3",
   "language": "python",
   "name": "python3"
  },
  "language_info": {
   "codemirror_mode": {
    "name": "ipython",
    "version": 3
   },
   "file_extension": ".py",
   "mimetype": "text/x-python",
   "name": "python",
   "nbconvert_exporter": "python",
   "pygments_lexer": "ipython3",
   "version": "3.7.6"
  }
 },
 "nbformat": 4,
 "nbformat_minor": 4
}
